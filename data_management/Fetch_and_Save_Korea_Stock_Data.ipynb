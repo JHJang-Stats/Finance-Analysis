{
 "cells": [
  {
   "cell_type": "code",
   "execution_count": 1,
   "metadata": {},
   "outputs": [
    {
     "name": "stderr",
     "output_type": "stream",
     "text": [
      "100%|██████████| 2677/2677 [05:10<00:00,  8.62it/s]\n"
     ]
    }
   ],
   "source": [
    "from fetchers import KoreaStockFetcher\n",
    "from savers import DataSaver\n",
    "import pandas as pd\n",
    "\n",
    "import warnings\n",
    "from tables import NaturalNameWarning\n",
    "warnings.filterwarnings('ignore', category=NaturalNameWarning)\n",
    "\n",
    "# Fetch stock codes\n",
    "code_data = pd.read_html('http://kind.krx.co.kr/corpgeneral/corpList.do?method=download', header=0)[0]\n",
    "code_data['종목코드'] = code_data['종목코드'].apply(lambda x: '0'*(6-len(str(x))) + str(x))\n",
    "code_list = code_data['종목코드'].tolist()\n",
    "\n",
    "# Fetch stock data\n",
    "fetcher = KoreaStockFetcher()\n",
    "stock_data = fetcher.fetch_all(code_list)"
   ]
  },
  {
   "cell_type": "code",
   "execution_count": 2,
   "metadata": {},
   "outputs": [
    {
     "name": "stdout",
     "output_type": "stream",
     "text": [
      "All data saved to ../data/hdf/korea_stock_data.h5\n"
     ]
    }
   ],
   "source": [
    "# Save stock data to h5\n",
    "saver = DataSaver(filepath=\"../data/hdf/korea_stock_data.h5\")\n",
    "saver.save_to_hdf5(stock_data)"
   ]
  },
  {
   "cell_type": "code",
   "execution_count": 3,
   "metadata": {},
   "outputs": [
    {
     "name": "stdout",
     "output_type": "stream",
     "text": [
      "All data saved to CSV in ../data/csv\n"
     ]
    }
   ],
   "source": [
    "# Save stock data to csv\n",
    "saver = DataSaver(filepath=\"../data/csv\")\n",
    "saver.save_to_csv(stock_data)"
   ]
  }
 ],
 "metadata": {
  "kernelspec": {
   "display_name": "base",
   "language": "python",
   "name": "python3"
  },
  "language_info": {
   "codemirror_mode": {
    "name": "ipython",
    "version": 3
   },
   "file_extension": ".py",
   "mimetype": "text/x-python",
   "name": "python",
   "nbconvert_exporter": "python",
   "pygments_lexer": "ipython3",
   "version": "3.1.0"
  }
 },
 "nbformat": 4,
 "nbformat_minor": 2
}
